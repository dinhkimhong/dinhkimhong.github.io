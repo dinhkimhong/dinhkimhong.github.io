{
 "cells": [
  {
   "cell_type": "markdown",
   "metadata": {},
   "source": [
    "## BOOK RECOMMENDATION & SEARCH"
   ]
  },
  {
   "cell_type": "code",
   "execution_count": 1,
   "metadata": {},
   "outputs": [],
   "source": [
    "# import packages\n",
    "import numpy as np\n",
    "import pandas as pd\n",
    "import matplotlib.pyplot as plt\n",
    "import seaborn as sns\n",
    "from sklearn.feature_extraction.text import TfidfVectorizer\n",
    "\n",
    "%matplotlib inline\n",
    "plt.rcParams['figure.figsize'] = (8.0, 6.0) #setting figure size"
   ]
  },
  {
   "cell_type": "markdown",
   "metadata": {},
   "source": [
    "Source data from: https://www.kaggle.com/jealousleopard/goodreadsbooks"
   ]
  },
  {
   "cell_type": "code",
   "execution_count": 2,
   "metadata": {},
   "outputs": [
    {
     "name": "stderr",
     "output_type": "stream",
     "text": [
      "b'Skipping line 3350: expected 12 fields, saw 13\\nSkipping line 4704: expected 12 fields, saw 13\\nSkipping line 5879: expected 12 fields, saw 13\\nSkipping line 8981: expected 12 fields, saw 13\\n'\n"
     ]
    },
    {
     "data": {
      "text/html": [
       "<div>\n",
       "<style scoped>\n",
       "    .dataframe tbody tr th:only-of-type {\n",
       "        vertical-align: middle;\n",
       "    }\n",
       "\n",
       "    .dataframe tbody tr th {\n",
       "        vertical-align: top;\n",
       "    }\n",
       "\n",
       "    .dataframe thead th {\n",
       "        text-align: right;\n",
       "    }\n",
       "</style>\n",
       "<table border=\"1\" class=\"dataframe\">\n",
       "  <thead>\n",
       "    <tr style=\"text-align: right;\">\n",
       "      <th></th>\n",
       "      <th>bookID</th>\n",
       "      <th>title</th>\n",
       "      <th>authors</th>\n",
       "      <th>average_rating</th>\n",
       "      <th>isbn</th>\n",
       "      <th>isbn13</th>\n",
       "      <th>language_code</th>\n",
       "      <th>num_pages</th>\n",
       "      <th>ratings_count</th>\n",
       "      <th>text_reviews_count</th>\n",
       "      <th>publication_date</th>\n",
       "      <th>publisher</th>\n",
       "    </tr>\n",
       "  </thead>\n",
       "  <tbody>\n",
       "    <tr>\n",
       "      <th>0</th>\n",
       "      <td>1</td>\n",
       "      <td>Harry Potter and the Half-Blood Prince (Harry ...</td>\n",
       "      <td>J.K. Rowling/Mary GrandPré</td>\n",
       "      <td>4.57</td>\n",
       "      <td>0439785960</td>\n",
       "      <td>9780439785969</td>\n",
       "      <td>eng</td>\n",
       "      <td>652</td>\n",
       "      <td>2095690</td>\n",
       "      <td>27591</td>\n",
       "      <td>9/16/2006</td>\n",
       "      <td>Scholastic Inc.</td>\n",
       "    </tr>\n",
       "    <tr>\n",
       "      <th>1</th>\n",
       "      <td>2</td>\n",
       "      <td>Harry Potter and the Order of the Phoenix (Har...</td>\n",
       "      <td>J.K. Rowling/Mary GrandPré</td>\n",
       "      <td>4.49</td>\n",
       "      <td>0439358078</td>\n",
       "      <td>9780439358071</td>\n",
       "      <td>eng</td>\n",
       "      <td>870</td>\n",
       "      <td>2153167</td>\n",
       "      <td>29221</td>\n",
       "      <td>9/1/2004</td>\n",
       "      <td>Scholastic Inc.</td>\n",
       "    </tr>\n",
       "    <tr>\n",
       "      <th>2</th>\n",
       "      <td>4</td>\n",
       "      <td>Harry Potter and the Chamber of Secrets (Harry...</td>\n",
       "      <td>J.K. Rowling</td>\n",
       "      <td>4.42</td>\n",
       "      <td>0439554896</td>\n",
       "      <td>9780439554893</td>\n",
       "      <td>eng</td>\n",
       "      <td>352</td>\n",
       "      <td>6333</td>\n",
       "      <td>244</td>\n",
       "      <td>11/1/2003</td>\n",
       "      <td>Scholastic</td>\n",
       "    </tr>\n",
       "    <tr>\n",
       "      <th>3</th>\n",
       "      <td>5</td>\n",
       "      <td>Harry Potter and the Prisoner of Azkaban (Harr...</td>\n",
       "      <td>J.K. Rowling/Mary GrandPré</td>\n",
       "      <td>4.56</td>\n",
       "      <td>043965548X</td>\n",
       "      <td>9780439655484</td>\n",
       "      <td>eng</td>\n",
       "      <td>435</td>\n",
       "      <td>2339585</td>\n",
       "      <td>36325</td>\n",
       "      <td>5/1/2004</td>\n",
       "      <td>Scholastic Inc.</td>\n",
       "    </tr>\n",
       "    <tr>\n",
       "      <th>4</th>\n",
       "      <td>8</td>\n",
       "      <td>Harry Potter Boxed Set  Books 1-5 (Harry Potte...</td>\n",
       "      <td>J.K. Rowling/Mary GrandPré</td>\n",
       "      <td>4.78</td>\n",
       "      <td>0439682584</td>\n",
       "      <td>9780439682589</td>\n",
       "      <td>eng</td>\n",
       "      <td>2690</td>\n",
       "      <td>41428</td>\n",
       "      <td>164</td>\n",
       "      <td>9/13/2004</td>\n",
       "      <td>Scholastic</td>\n",
       "    </tr>\n",
       "  </tbody>\n",
       "</table>\n",
       "</div>"
      ],
      "text/plain": [
       "   bookID                                              title  \\\n",
       "0       1  Harry Potter and the Half-Blood Prince (Harry ...   \n",
       "1       2  Harry Potter and the Order of the Phoenix (Har...   \n",
       "2       4  Harry Potter and the Chamber of Secrets (Harry...   \n",
       "3       5  Harry Potter and the Prisoner of Azkaban (Harr...   \n",
       "4       8  Harry Potter Boxed Set  Books 1-5 (Harry Potte...   \n",
       "\n",
       "                      authors  average_rating        isbn         isbn13  \\\n",
       "0  J.K. Rowling/Mary GrandPré            4.57  0439785960  9780439785969   \n",
       "1  J.K. Rowling/Mary GrandPré            4.49  0439358078  9780439358071   \n",
       "2                J.K. Rowling            4.42  0439554896  9780439554893   \n",
       "3  J.K. Rowling/Mary GrandPré            4.56  043965548X  9780439655484   \n",
       "4  J.K. Rowling/Mary GrandPré            4.78  0439682584  9780439682589   \n",
       "\n",
       "  language_code    num_pages  ratings_count  text_reviews_count  \\\n",
       "0           eng          652        2095690               27591   \n",
       "1           eng          870        2153167               29221   \n",
       "2           eng          352           6333                 244   \n",
       "3           eng          435        2339585               36325   \n",
       "4           eng         2690          41428                 164   \n",
       "\n",
       "  publication_date        publisher  \n",
       "0        9/16/2006  Scholastic Inc.  \n",
       "1         9/1/2004  Scholastic Inc.  \n",
       "2        11/1/2003       Scholastic  \n",
       "3         5/1/2004  Scholastic Inc.  \n",
       "4        9/13/2004       Scholastic  "
      ]
     },
     "execution_count": 2,
     "metadata": {},
     "output_type": "execute_result"
    }
   ],
   "source": [
    "\n",
    "book_df = pd.read_csv('Entertainment/books.csv', error_bad_lines=False, parse_dates=['publication_date'])\n",
    "book_df.head()"
   ]
  },
  {
   "cell_type": "code",
   "execution_count": 3,
   "metadata": {},
   "outputs": [
    {
     "data": {
      "text/plain": [
       "(11123, 12)"
      ]
     },
     "execution_count": 3,
     "metadata": {},
     "output_type": "execute_result"
    }
   ],
   "source": [
    "book_df.shape"
   ]
  },
  {
   "cell_type": "code",
   "execution_count": 4,
   "metadata": {},
   "outputs": [
    {
     "name": "stdout",
     "output_type": "stream",
     "text": [
      "<class 'pandas.core.frame.DataFrame'>\n",
      "RangeIndex: 11123 entries, 0 to 11122\n",
      "Data columns (total 12 columns):\n",
      " #   Column              Non-Null Count  Dtype  \n",
      "---  ------              --------------  -----  \n",
      " 0   bookID              11123 non-null  int64  \n",
      " 1   title               11123 non-null  object \n",
      " 2   authors             11123 non-null  object \n",
      " 3   average_rating      11123 non-null  float64\n",
      " 4   isbn                11123 non-null  object \n",
      " 5   isbn13              11123 non-null  int64  \n",
      " 6   language_code       11123 non-null  object \n",
      " 7     num_pages         11123 non-null  int64  \n",
      " 8   ratings_count       11123 non-null  int64  \n",
      " 9   text_reviews_count  11123 non-null  int64  \n",
      " 10  publication_date    11123 non-null  object \n",
      " 11  publisher           11123 non-null  object \n",
      "dtypes: float64(1), int64(5), object(6)\n",
      "memory usage: 1.0+ MB\n"
     ]
    }
   ],
   "source": [
    "book_df.info()"
   ]
  },
  {
   "cell_type": "code",
   "execution_count": 5,
   "metadata": {},
   "outputs": [
    {
     "data": {
      "text/plain": [
       "array(['eng', 'en-US', 'fre', 'spa', 'en-GB', 'mul', 'grc', 'enm',\n",
       "       'en-CA', 'ger', 'jpn', 'ara', 'nl', 'zho', 'lat', 'por', 'srp',\n",
       "       'ita', 'rus', 'msa', 'glg', 'wel', 'swe', 'nor', 'tur', 'gla',\n",
       "       'ale'], dtype=object)"
      ]
     },
     "execution_count": 5,
     "metadata": {},
     "output_type": "execute_result"
    }
   ],
   "source": [
    "# check languages of books\n",
    "book_df['language_code'].unique()"
   ]
  },
  {
   "cell_type": "code",
   "execution_count": 6,
   "metadata": {},
   "outputs": [
    {
     "data": {
      "image/png": "[encoded data removed]",
      "text/plain": [
       "<Figure size 576x432 with 1 Axes>"
      ]
     },
     "metadata": {
      "needs_background": "light"
     },
     "output_type": "display_data"
    }
   ],
   "source": [
    "#visualize number of books in each language\n",
    "lang_series = book_df['language_code'].value_counts()\n",
    "plt.figure()\n",
    "ax = lang_series.plot.barh(title='Number of books in each languages')\n",
    "ax.set_xlabel('Language')\n",
    "ax.set_ylabel('Number of books')\n",
    "plt.show()"
   ]
  },
  {
   "cell_type": "code",
   "execution_count": 7,
   "metadata": {},
   "outputs": [
    {
     "data": {
      "image/png": "[encoded data removed]",
      "text/plain": [
       "<Figure size 576x432 with 1 Axes>"
      ]
     },
     "metadata": {
      "needs_background": "light"
     },
     "output_type": "display_data"
    }
   ],
   "source": [
    "#plot histogram of average_rating\n",
    "plt.hist(book_df['average_rating'], bins=20)\n",
    "plt.show()"
   ]
  },
  {
   "cell_type": "code",
   "execution_count": 8,
   "metadata": {},
   "outputs": [],
   "source": [
    "#get the matrix of tf-idf vectors\n",
    "tfidf = TfidfVectorizer(stop_words='english')\n",
    "tfidf_book_titles = tfidf.fit_transform(book_df['title'])"
   ]
  },
  {
   "cell_type": "code",
   "execution_count": 9,
   "metadata": {},
   "outputs": [
    {
     "data": {
      "text/plain": [
       "array([[1.        , 0.71276342, 0.71518849, ..., 0.        , 0.        ,\n",
       "        0.        ],\n",
       "       [0.71276342, 1.        , 0.72940912, ..., 0.        , 0.        ,\n",
       "        0.        ],\n",
       "       [0.71518849, 0.72940912, 1.        , ..., 0.        , 0.        ,\n",
       "        0.        ],\n",
       "       ...,\n",
       "       [0.        , 0.        , 0.        , ..., 1.        , 0.        ,\n",
       "        0.        ],\n",
       "       [0.        , 0.        , 0.        , ..., 0.        , 1.        ,\n",
       "        0.        ],\n",
       "       [0.        , 0.        , 0.        , ..., 0.        , 0.        ,\n",
       "        1.        ]])"
      ]
     },
     "execution_count": 9,
     "metadata": {},
     "output_type": "execute_result"
    }
   ],
   "source": [
    "from sklearn.metrics.pairwise import linear_kernel      #faster than cosine_similarity\n",
    "cosine = linear_kernel(tfidf_book_titles, tfidf_book_titles)\n",
    "cosine"
   ]
  },
  {
   "cell_type": "code",
   "execution_count": 10,
   "metadata": {},
   "outputs": [
    {
     "data": {
      "text/html": [
       "<div>\n",
       "<style scoped>\n",
       "    .dataframe tbody tr th:only-of-type {\n",
       "        vertical-align: middle;\n",
       "    }\n",
       "\n",
       "    .dataframe tbody tr th {\n",
       "        vertical-align: top;\n",
       "    }\n",
       "\n",
       "    .dataframe thead th {\n",
       "        text-align: right;\n",
       "    }\n",
       "</style>\n",
       "<table border=\"1\" class=\"dataframe\">\n",
       "  <thead>\n",
       "    <tr style=\"text-align: right;\">\n",
       "      <th></th>\n",
       "      <th>title</th>\n",
       "      <th>indices</th>\n",
       "    </tr>\n",
       "  </thead>\n",
       "  <tbody>\n",
       "    <tr>\n",
       "      <th>0</th>\n",
       "      <td>Harry Potter and the Half-Blood Prince (Harry ...</td>\n",
       "      <td>0</td>\n",
       "    </tr>\n",
       "    <tr>\n",
       "      <th>1</th>\n",
       "      <td>Harry Potter and the Order of the Phoenix (Har...</td>\n",
       "      <td>1</td>\n",
       "    </tr>\n",
       "    <tr>\n",
       "      <th>2</th>\n",
       "      <td>Harry Potter and the Chamber of Secrets (Harry...</td>\n",
       "      <td>2</td>\n",
       "    </tr>\n",
       "    <tr>\n",
       "      <th>3</th>\n",
       "      <td>Harry Potter and the Prisoner of Azkaban (Harr...</td>\n",
       "      <td>3</td>\n",
       "    </tr>\n",
       "    <tr>\n",
       "      <th>4</th>\n",
       "      <td>Harry Potter Boxed Set  Books 1-5 (Harry Potte...</td>\n",
       "      <td>4</td>\n",
       "    </tr>\n",
       "  </tbody>\n",
       "</table>\n",
       "</div>"
      ],
      "text/plain": [
       "                                               title  indices\n",
       "0  Harry Potter and the Half-Blood Prince (Harry ...        0\n",
       "1  Harry Potter and the Order of the Phoenix (Har...        1\n",
       "2  Harry Potter and the Chamber of Secrets (Harry...        2\n",
       "3  Harry Potter and the Prisoner of Azkaban (Harr...        3\n",
       "4  Harry Potter Boxed Set  Books 1-5 (Harry Potte...        4"
      ]
     },
     "execution_count": 10,
     "metadata": {},
     "output_type": "execute_result"
    }
   ],
   "source": [
    "#create a datframe with title and indice\n",
    "title_df = pd.DataFrame(book_df['title'])\n",
    "title_df['indices'] = title_df.index\n",
    "title_df.head()"
   ]
  },
  {
   "cell_type": "code",
   "execution_count": 11,
   "metadata": {},
   "outputs": [],
   "source": [
    "#function to get recommendations from the previous customer picked so the book_title MUST BE IN THE LIST OF EXISTING BOOK\n",
    "def get_recommendations(book_title, number_of_recommendations):\n",
    "    if (book_title in np.array(title_df['title'])):\n",
    "        #get indice by book_title\n",
    "        indice = title_df[title_df['title'] == book_title]['indices'].array[0]\n",
    "        #get cosine by indice and create a dataframe, add 1 columns indices\n",
    "        cosine_df = pd.DataFrame({'cos':cosine[indice]})\n",
    "        cosine_df['indices'] = cosine_df.index\n",
    "        #sort by cos to get to highest cosine similary\n",
    "        sort_cosine_df = cosine_df.sort_values(by = 'cos', ascending=False)\n",
    "       #choose list of indices have highest similary, limit by number_of_recommendation\n",
    "        chosen_top_indices = sort_cosine_df[1:number_of_recommendations +1]['indices'].array\n",
    "        #print out book title\n",
    "        for ind in chosen_top_indices:\n",
    "            print(f\"{title_df[title_df['indices'] == ind]['title'].values[0]}\")\n",
    "    else:\n",
    "        print('Sorry we dont have recommendations for your right now. Please try again later.')\n",
    "    "
   ]
  },
  {
   "cell_type": "code",
   "execution_count": 12,
   "metadata": {},
   "outputs": [
    {
     "name": "stdout",
     "output_type": "stream",
     "text": [
      "The Book of Other People\n",
      "The Working Poor: Invisible in America\n",
      "All New People\n",
      "A Man of the People\n",
      "We Were Not Like Other People\n",
      "The Rainbow People\n",
      "The People of Paper\n",
      "Europe and the People Without History\n",
      "Independent People\n",
      "Pathologies of Power: Health  Human Rights and the New War on the Poor\n",
      "Banker to the Poor: Micro-Lending and the Battle Against World Poverty\n",
      "The Five People You Meet in Heaven\n",
      "The Five People You Meet in Heaven\n",
      "What Do You Care What Other People Think?\n",
      "Winning with People Workbook\n"
     ]
    }
   ],
   "source": [
    "#try to get recommendation from the book \"The Ice-Shirt (Seven Dreams #1)\"\n",
    "get_recommendations('Poor People', 15)"
   ]
  },
  {
   "cell_type": "code",
   "execution_count": 13,
   "metadata": {},
   "outputs": [],
   "source": [
    "#function to search random books (book_title may not be in the existing books) and I will limit only display 10 books only\n",
    "def search_book(search_book):\n",
    "    #append new book and transform to vectors\n",
    "    new_df = pd.DataFrame({\"title\":[search_book], \n",
    "                    \"indices\":[title_df['indices'].max()+1]})\n",
    "    new_title_df = title_df.append(new_df)\n",
    "\n",
    "    tfidf_book_titles = tfidf.fit_transform(new_title_df['title'])\n",
    "    new_cosine = linear_kernel(tfidf_book_titles, tfidf_book_titles)    \n",
    "\n",
    "    #get indice by book_title\n",
    "    indice = new_title_df[new_title_df['title'] == search_book]['indices'].array[0]\n",
    "\n",
    "     #get cosine by indice and create a dataframe, add 1 columns indices\n",
    "    cosine_df = pd.DataFrame({'cos':new_cosine[indice]})\n",
    "    cosine_df['indices'] = cosine_df.index\n",
    "\n",
    "     #sort by cos to get to highest cosine similary\n",
    "    sort_cosine_df = cosine_df.sort_values(by = 'cos', ascending=False)\n",
    "    #choose list of indices have highest similary, limit by number_of_recommendation\n",
    "    chosen_top_indices = sort_cosine_df[1:11]['indices'].array\n",
    "    \n",
    "    print('WE HAVE 10 RESULTS AS FOLLOWING:')\n",
    "    #print out book title by indices\n",
    "    for ind in chosen_top_indices:\n",
    "        print(f\"{new_title_df[new_title_df['indices'] == ind]['title'].values[0]}\")\n"
   ]
  },
  {
   "cell_type": "code",
   "execution_count": 14,
   "metadata": {},
   "outputs": [
    {
     "name": "stdout",
     "output_type": "stream",
     "text": [
      "WE HAVE 10 RESULTS AS FOLLOWING:\n",
      "It's Winter\n",
      "Winter's Tales\n",
      "The Winter's Tale\n",
      "Winter's Tale\n",
      "Winter (Four Seasons  #4)\n",
      "Winter on the Farm\n",
      "Brian's Winter\n",
      "Winter of Magic's Return\n",
      "The Winter of Our Discontent\n",
      "Winter Cottage\n"
     ]
    }
   ],
   "source": [
    "#example: search random book title\n",
    "search_book('Winter')"
   ]
  },
  {
   "cell_type": "markdown",
   "metadata": {},
   "source": [
    "### Book recommendation by Title and Summary"
   ]
  },
  {
   "cell_type": "markdown",
   "metadata": {},
   "source": [
    "Data from https://www.kaggle.com/ymaricar/cmu-book-summary-dataset?select=booksummaries.txt"
   ]
  },
  {
   "cell_type": "code",
   "execution_count": 15,
   "metadata": {},
   "outputs": [
    {
     "data": {
      "text/html": [
       "<div>\n",
       "<style scoped>\n",
       "    .dataframe tbody tr th:only-of-type {\n",
       "        vertical-align: middle;\n",
       "    }\n",
       "\n",
       "    .dataframe tbody tr th {\n",
       "        vertical-align: top;\n",
       "    }\n",
       "\n",
       "    .dataframe thead th {\n",
       "        text-align: right;\n",
       "    }\n",
       "</style>\n",
       "<table border=\"1\" class=\"dataframe\">\n",
       "  <thead>\n",
       "    <tr style=\"text-align: right;\">\n",
       "      <th></th>\n",
       "      <th>BookID</th>\n",
       "      <th>Unknown</th>\n",
       "      <th>Title</th>\n",
       "      <th>Author</th>\n",
       "      <th>Published Date</th>\n",
       "      <th>Tags</th>\n",
       "      <th>Summary</th>\n",
       "    </tr>\n",
       "  </thead>\n",
       "  <tbody>\n",
       "    <tr>\n",
       "      <th>0</th>\n",
       "      <td>620</td>\n",
       "      <td>/m/0hhy</td>\n",
       "      <td>Animal Farm</td>\n",
       "      <td>George Orwell</td>\n",
       "      <td>1945-08-17</td>\n",
       "      <td>{\"/m/016lj8\": \"Roman \\u00e0 clef\", \"/m/06nbt\":...</td>\n",
       "      <td>Old Major, the old boar on the Manor Farm, ca...</td>\n",
       "    </tr>\n",
       "    <tr>\n",
       "      <th>1</th>\n",
       "      <td>843</td>\n",
       "      <td>/m/0k36</td>\n",
       "      <td>A Clockwork Orange</td>\n",
       "      <td>Anthony Burgess</td>\n",
       "      <td>1962</td>\n",
       "      <td>{\"/m/06n90\": \"Science Fiction\", \"/m/0l67h\": \"N...</td>\n",
       "      <td>Alex, a teenager living in near-future Englan...</td>\n",
       "    </tr>\n",
       "  </tbody>\n",
       "</table>\n",
       "</div>"
      ],
      "text/plain": [
       "   BookID  Unknown               Title           Author Published Date  \\\n",
       "0     620  /m/0hhy         Animal Farm    George Orwell     1945-08-17   \n",
       "1     843  /m/0k36  A Clockwork Orange  Anthony Burgess           1962   \n",
       "\n",
       "                                                Tags  \\\n",
       "0  {\"/m/016lj8\": \"Roman \\u00e0 clef\", \"/m/06nbt\":...   \n",
       "1  {\"/m/06n90\": \"Science Fiction\", \"/m/0l67h\": \"N...   \n",
       "\n",
       "                                             Summary  \n",
       "0   Old Major, the old boar on the Manor Farm, ca...  \n",
       "1   Alex, a teenager living in near-future Englan...  "
      ]
     },
     "execution_count": 15,
     "metadata": {},
     "output_type": "execute_result"
    }
   ],
   "source": [
    "new_book_df = pd.read_csv('Entertainment/booksummaries.txt',error_bad_lines=False,delimiter=\"\\t\",header=None,\\\n",
    "                      names=[\"BookID\", \"Unknown\", \"Title\",\"Author\",\"Published Date\",\"Tags\",\"Summary\"])\n",
    "new_book_df.head(2)"
   ]
  },
  {
   "cell_type": "code",
   "execution_count": 16,
   "metadata": {},
   "outputs": [
    {
     "data": {
      "text/html": [
       "<div>\n",
       "<style scoped>\n",
       "    .dataframe tbody tr th:only-of-type {\n",
       "        vertical-align: middle;\n",
       "    }\n",
       "\n",
       "    .dataframe tbody tr th {\n",
       "        vertical-align: top;\n",
       "    }\n",
       "\n",
       "    .dataframe thead th {\n",
       "        text-align: right;\n",
       "    }\n",
       "</style>\n",
       "<table border=\"1\" class=\"dataframe\">\n",
       "  <thead>\n",
       "    <tr style=\"text-align: right;\">\n",
       "      <th></th>\n",
       "      <th>BookID</th>\n",
       "      <th>Unknown</th>\n",
       "      <th>Title</th>\n",
       "      <th>Author</th>\n",
       "      <th>Published Date</th>\n",
       "      <th>Tags</th>\n",
       "      <th>Summary</th>\n",
       "      <th>title_summary</th>\n",
       "    </tr>\n",
       "  </thead>\n",
       "  <tbody>\n",
       "    <tr>\n",
       "      <th>0</th>\n",
       "      <td>620</td>\n",
       "      <td>/m/0hhy</td>\n",
       "      <td>Animal Farm</td>\n",
       "      <td>George Orwell</td>\n",
       "      <td>1945-08-17</td>\n",
       "      <td>{\"/m/016lj8\": \"Roman \\u00e0 clef\", \"/m/06nbt\":...</td>\n",
       "      <td>Old Major, the old boar on the Manor Farm, ca...</td>\n",
       "      <td>Animal Farm  Old Major, the old boar on the Ma...</td>\n",
       "    </tr>\n",
       "    <tr>\n",
       "      <th>1</th>\n",
       "      <td>843</td>\n",
       "      <td>/m/0k36</td>\n",
       "      <td>A Clockwork Orange</td>\n",
       "      <td>Anthony Burgess</td>\n",
       "      <td>1962</td>\n",
       "      <td>{\"/m/06n90\": \"Science Fiction\", \"/m/0l67h\": \"N...</td>\n",
       "      <td>Alex, a teenager living in near-future Englan...</td>\n",
       "      <td>A Clockwork Orange  Alex, a teenager living in...</td>\n",
       "    </tr>\n",
       "    <tr>\n",
       "      <th>2</th>\n",
       "      <td>986</td>\n",
       "      <td>/m/0ldx</td>\n",
       "      <td>The Plague</td>\n",
       "      <td>Albert Camus</td>\n",
       "      <td>1947</td>\n",
       "      <td>{\"/m/02m4t\": \"Existentialism\", \"/m/02xlf\": \"Fi...</td>\n",
       "      <td>The text of The Plague is divided into five p...</td>\n",
       "      <td>The Plague  The text of The Plague is divided ...</td>\n",
       "    </tr>\n",
       "    <tr>\n",
       "      <th>3</th>\n",
       "      <td>1756</td>\n",
       "      <td>/m/0sww</td>\n",
       "      <td>An Enquiry Concerning Human Understanding</td>\n",
       "      <td>David Hume</td>\n",
       "      <td>NaN</td>\n",
       "      <td>NaN</td>\n",
       "      <td>The argument of the Enquiry proceeds by a ser...</td>\n",
       "      <td>An Enquiry Concerning Human Understanding  The...</td>\n",
       "    </tr>\n",
       "    <tr>\n",
       "      <th>4</th>\n",
       "      <td>2080</td>\n",
       "      <td>/m/0wkt</td>\n",
       "      <td>A Fire Upon the Deep</td>\n",
       "      <td>Vernor Vinge</td>\n",
       "      <td>NaN</td>\n",
       "      <td>{\"/m/03lrw\": \"Hard science fiction\", \"/m/06n90...</td>\n",
       "      <td>The novel posits that space around the Milky ...</td>\n",
       "      <td>A Fire Upon the Deep  The novel posits that sp...</td>\n",
       "    </tr>\n",
       "  </tbody>\n",
       "</table>\n",
       "</div>"
      ],
      "text/plain": [
       "   BookID  Unknown                                      Title  \\\n",
       "0     620  /m/0hhy                                Animal Farm   \n",
       "1     843  /m/0k36                         A Clockwork Orange   \n",
       "2     986  /m/0ldx                                 The Plague   \n",
       "3    1756  /m/0sww  An Enquiry Concerning Human Understanding   \n",
       "4    2080  /m/0wkt                       A Fire Upon the Deep   \n",
       "\n",
       "            Author Published Date  \\\n",
       "0    George Orwell     1945-08-17   \n",
       "1  Anthony Burgess           1962   \n",
       "2     Albert Camus           1947   \n",
       "3       David Hume            NaN   \n",
       "4     Vernor Vinge            NaN   \n",
       "\n",
       "                                                Tags  \\\n",
       "0  {\"/m/016lj8\": \"Roman \\u00e0 clef\", \"/m/06nbt\":...   \n",
       "1  {\"/m/06n90\": \"Science Fiction\", \"/m/0l67h\": \"N...   \n",
       "2  {\"/m/02m4t\": \"Existentialism\", \"/m/02xlf\": \"Fi...   \n",
       "3                                                NaN   \n",
       "4  {\"/m/03lrw\": \"Hard science fiction\", \"/m/06n90...   \n",
       "\n",
       "                                             Summary  \\\n",
       "0   Old Major, the old boar on the Manor Farm, ca...   \n",
       "1   Alex, a teenager living in near-future Englan...   \n",
       "2   The text of The Plague is divided into five p...   \n",
       "3   The argument of the Enquiry proceeds by a ser...   \n",
       "4   The novel posits that space around the Milky ...   \n",
       "\n",
       "                                       title_summary  \n",
       "0  Animal Farm  Old Major, the old boar on the Ma...  \n",
       "1  A Clockwork Orange  Alex, a teenager living in...  \n",
       "2  The Plague  The text of The Plague is divided ...  \n",
       "3  An Enquiry Concerning Human Understanding  The...  \n",
       "4  A Fire Upon the Deep  The novel posits that sp...  "
      ]
     },
     "execution_count": 16,
     "metadata": {},
     "output_type": "execute_result"
    }
   ],
   "source": [
    "new_book_df['title_summary'] = new_book_df['Title'] + ' ' + new_book_df['Summary']\n",
    "new_book_df.head()"
   ]
  },
  {
   "cell_type": "code",
   "execution_count": 21,
   "metadata": {},
   "outputs": [
    {
     "data": {
      "text/plain": [
       "array([[1.        , 0.01112758, 0.01196829, ..., 0.00772858, 0.00125136,\n",
       "        0.01035577],\n",
       "       [0.01112758, 1.        , 0.01828531, ..., 0.0067206 , 0.00165698,\n",
       "        0.01035863],\n",
       "       [0.01196829, 0.01828531, 1.        , ..., 0.01026542, 0.00815554,\n",
       "        0.02040999],\n",
       "       ...,\n",
       "       [0.00772858, 0.0067206 , 0.01026542, ..., 1.        , 0.        ,\n",
       "        0.01267054],\n",
       "       [0.00125136, 0.00165698, 0.00815554, ..., 0.        , 1.        ,\n",
       "        0.00797861],\n",
       "       [0.01035577, 0.01035863, 0.02040999, ..., 0.01267054, 0.00797861,\n",
       "        1.        ]])"
      ]
     },
     "execution_count": 21,
     "metadata": {},
     "output_type": "execute_result"
    }
   ],
   "source": [
    "#get the matrix of tf-idf vectors from the cleaned_summary\n",
    "tfidf = TfidfVectorizer(stop_words='english')\n",
    "tfidf_title_summary = tfidf.fit_transform(new_book_df['title_summary'])\n",
    "cosine = linear_kernel(tfidf_title_summary, tfidf_title_summary)\n",
    "cosine"
   ]
  },
  {
   "cell_type": "code",
   "execution_count": 22,
   "metadata": {},
   "outputs": [
    {
     "data": {
      "text/html": [
       "<div>\n",
       "<style scoped>\n",
       "    .dataframe tbody tr th:only-of-type {\n",
       "        vertical-align: middle;\n",
       "    }\n",
       "\n",
       "    .dataframe tbody tr th {\n",
       "        vertical-align: top;\n",
       "    }\n",
       "\n",
       "    .dataframe thead th {\n",
       "        text-align: right;\n",
       "    }\n",
       "</style>\n",
       "<table border=\"1\" class=\"dataframe\">\n",
       "  <thead>\n",
       "    <tr style=\"text-align: right;\">\n",
       "      <th></th>\n",
       "      <th>title_summary</th>\n",
       "      <th>title</th>\n",
       "      <th>indices</th>\n",
       "    </tr>\n",
       "  </thead>\n",
       "  <tbody>\n",
       "    <tr>\n",
       "      <th>0</th>\n",
       "      <td>Animal Farm  Old Major, the old boar on the Ma...</td>\n",
       "      <td>Animal Farm</td>\n",
       "      <td>0</td>\n",
       "    </tr>\n",
       "    <tr>\n",
       "      <th>1</th>\n",
       "      <td>A Clockwork Orange  Alex, a teenager living in...</td>\n",
       "      <td>A Clockwork Orange</td>\n",
       "      <td>1</td>\n",
       "    </tr>\n",
       "    <tr>\n",
       "      <th>2</th>\n",
       "      <td>The Plague  The text of The Plague is divided ...</td>\n",
       "      <td>The Plague</td>\n",
       "      <td>2</td>\n",
       "    </tr>\n",
       "    <tr>\n",
       "      <th>3</th>\n",
       "      <td>An Enquiry Concerning Human Understanding  The...</td>\n",
       "      <td>An Enquiry Concerning Human Understanding</td>\n",
       "      <td>3</td>\n",
       "    </tr>\n",
       "    <tr>\n",
       "      <th>4</th>\n",
       "      <td>A Fire Upon the Deep  The novel posits that sp...</td>\n",
       "      <td>A Fire Upon the Deep</td>\n",
       "      <td>4</td>\n",
       "    </tr>\n",
       "  </tbody>\n",
       "</table>\n",
       "</div>"
      ],
      "text/plain": [
       "                                       title_summary  \\\n",
       "0  Animal Farm  Old Major, the old boar on the Ma...   \n",
       "1  A Clockwork Orange  Alex, a teenager living in...   \n",
       "2  The Plague  The text of The Plague is divided ...   \n",
       "3  An Enquiry Concerning Human Understanding  The...   \n",
       "4  A Fire Upon the Deep  The novel posits that sp...   \n",
       "\n",
       "                                       title  indices  \n",
       "0                                Animal Farm        0  \n",
       "1                         A Clockwork Orange        1  \n",
       "2                                 The Plague        2  \n",
       "3  An Enquiry Concerning Human Understanding        3  \n",
       "4                       A Fire Upon the Deep        4  "
      ]
     },
     "execution_count": 22,
     "metadata": {},
     "output_type": "execute_result"
    }
   ],
   "source": [
    "#create a dataframe with title and indice\n",
    "title_summary_df = pd.DataFrame({'title_summary':new_book_df['title_summary'], 'title':new_book_df['Title']})\n",
    "title_summary_df['indices'] = title_summary_df.index\n",
    "title_summary_df.head()"
   ]
  },
  {
   "cell_type": "code",
   "execution_count": 28,
   "metadata": {},
   "outputs": [],
   "source": [
    "#get_recommendations by book title (from book title and summary) (10 recommendations)\n",
    "def get_recommendations(book_title):\n",
    "     #get indice by book_title\n",
    "        indice = title_summary_df[title_summary_df['title'] == book_title]['indices'].array[0]\n",
    "        cosine_df = pd.DataFrame({'cos':cosine[indice]})\n",
    "        cosine_df['indices'] = cosine_df.index\n",
    "        #sort by cos to get to highest cosine similary\n",
    "        sort_cosine_df = cosine_df.sort_values(by = 'cos', ascending=False)\n",
    "       #choose list of indices have highest similary, limit by number_of_recommendation\n",
    "        chosen_top_indices = sort_cosine_df[1:11]['indices'].array\n",
    "        #print out book title\n",
    "        for ind in chosen_top_indices:\n",
    "            print(f\"{title_summary_df[title_summary_df['indices'] == ind]['title'].values[0]}\")"
   ]
  },
  {
   "cell_type": "code",
   "execution_count": 27,
   "metadata": {},
   "outputs": [
    {
     "name": "stdout",
     "output_type": "stream",
     "text": [
      "Animal Farm\n",
      "Snowball's Chance\n",
      "Fire and Sword\n",
      "Moscow 1812: Napoleon's Fatal March\n",
      "Freddy Goes to Florida\n",
      "Piggie Pie\n",
      "Jack the Hare and Mukuyu Forest\n",
      "The True Story of the Three Little Pigs\n",
      "Arctic Adventure\n",
      "The Fields of Death\n",
      "Animal World\n"
     ]
    }
   ],
   "source": [
    "get_recommendations('Animal Farm')"
   ]
  }
 ],
 "metadata": {
  "kernelspec": {
   "display_name": "Python 3",
   "language": "python",
   "name": "python3"
  },
  "language_info": {
   "codemirror_mode": {
    "name": "ipython",
    "version": 3
   },
   "file_extension": ".py",
   "mimetype": "text/x-python",
   "name": "python",
   "nbconvert_exporter": "python",
   "pygments_lexer": "ipython3",
   "version": "3.7.6"
  }
 },
 "nbformat": 4,
 "nbformat_minor": 4
}
